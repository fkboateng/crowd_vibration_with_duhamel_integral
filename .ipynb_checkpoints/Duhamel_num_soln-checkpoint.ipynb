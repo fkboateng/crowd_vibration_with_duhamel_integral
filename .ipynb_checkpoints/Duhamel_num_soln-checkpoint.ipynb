{
 "cells": [
  {
   "cell_type": "code",
   "execution_count": 4,
   "id": "b1bacaf7-f79d-4f68-949c-dce619f6b770",
   "metadata": {},
   "outputs": [],
   "source": [
    "import math\n",
    "import numpy as np\n",
    "import sympy as sym\n",
    "import matplotlib.pyplot as plt"
   ]
  },
  {
   "cell_type": "markdown",
   "id": "942327c9-3212-4dc0-b4ae-175adf010201",
   "metadata": {},
   "source": [
    "# Numerical solution to duhamel integral"
   ]
  },
  {
   "cell_type": "code",
   "execution_count": 5,
   "id": "ddff648b-3d2d-4759-957b-82ac200af19c",
   "metadata": {},
   "outputs": [],
   "source": [
    "m = 1000\n",
    "xi = 0.05\n",
    "f = 1.5\n",
    "wn = 2*math.pi*f\n",
    "wd = wn*math.sqrt(1-xi**2)"
   ]
  },
  {
   "cell_type": "code",
   "execution_count": 6,
   "id": "907ff703-ee95-49c1-ad8b-1532e5073ddb",
   "metadata": {},
   "outputs": [],
   "source": [
    "tMax = 20\n",
    "delT = 0.01\n",
    "time = np.arange(0, tMax+delT, delT)\n",
    "\n",
    "f_Force = 1\n",
    "wf = 2*math.pi*f_Force\n",
    "P = 100 # (N) Force amplitude\n",
    "force = P*np.sin(wf*time) # Force vector\n"
   ]
  },
  {
   "cell_type": "markdown",
   "id": "d017f8ce-2a8b-4f6e-8d84-3c4a4e05f6ed",
   "metadata": {},
   "source": [
    "\\begin{equation}\n",
    "u(t) = A e^{-\\xi \\omega_n t} \\sin (\\omega_d t) - B e^{-\\xi \\omega_n t} \\cos (\\omega_d t)\n",
    "\\end{equation}\n",
    "\n",
    "Where,\n",
    "\n",
    "\\begin{equation}\n",
    "A = \\frac{1}{m\\omega_d} \\int_0^t e^{\\xi \\omega_n \\tau} f(\\tau)\\cos(\\omega_d\\tau)\\mathrm{d}\\tau\n",
    "\\end{equation}\n",
    "\n",
    "\\begin{equation}\n",
    "B = \\frac{1}{m\\omega_d} \\int_0^t e^{\\xi \\omega_n \\tau} f(\\tau)\\sin(\\omega_d\\tau)\\mathrm{d}\\tau\n",
    "\\end{equation}"
   ]
  },
  {
   "cell_type": "code",
   "execution_count": null,
   "id": "ce14502a-0ed4-4b9b-935c-cd9767bf68be",
   "metadata": {},
   "outputs": [],
   "source": [
    "def Duhamel(T, F):\n",
    "    #Initialize zeros to contain the displacement values\n",
    "    U = np.zeros(len(T))\n",
    "    \n",
    "    #Initialize values for the cumulative sum used to calculate A and B at each time step\n",
    "    ACum_i = 0\n",
    "    BCum_i = 0\n",
    "    \n",
    "    #Cycle through the time vector and evaluate the response at each time point\n",
    "    for i,t in enumerate(T):\n",
    "        \n",
    "        if i>0:\n",
    "            #Calculate A[i]\n",
    "            y_i = math.e**(xi*wn*T[i]) * F[i] * math.cos(wd*T[i]) # Value of integrand at current time-step\n",
    "            y_iml = math.e**(xi*wn*T[i-1]) * F[i-1] * math.cos(wd*T[i-1]) # \n",
    "            Area_i = 0.5*delT*(y_i + y_iml)\n",
    "            ACum_i += Area_i\n",
    "            A_i = (1/(m*wd))*ACum_i"
   ]
  }
 ],
 "metadata": {
  "kernelspec": {
   "display_name": "Python 3 (ipykernel)",
   "language": "python",
   "name": "python3"
  },
  "language_info": {
   "codemirror_mode": {
    "name": "ipython",
    "version": 3
   },
   "file_extension": ".py",
   "mimetype": "text/x-python",
   "name": "python",
   "nbconvert_exporter": "python",
   "pygments_lexer": "ipython3",
   "version": "3.9.13"
  }
 },
 "nbformat": 4,
 "nbformat_minor": 5
}
