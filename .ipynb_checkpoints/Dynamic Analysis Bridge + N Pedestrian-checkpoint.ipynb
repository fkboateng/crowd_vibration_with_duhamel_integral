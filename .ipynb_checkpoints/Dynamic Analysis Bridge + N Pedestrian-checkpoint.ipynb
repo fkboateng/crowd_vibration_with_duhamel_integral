{
 "cells": [
  {
   "cell_type": "code",
   "execution_count": null,
   "id": "ba9e17b0-29b9-4925-9229-79ff845c7a42",
   "metadata": {
    "executionInfo": {
     "elapsed": 53,
     "status": "ok",
     "timestamp": 1702066888880,
     "user": {
      "displayName": "Felix Boateng",
      "userId": "04627125591483363813"
     },
     "user_tz": 0
    },
    "id": "ba9e17b0-29b9-4925-9229-79ff845c7a42",
    "tags": []
   },
   "outputs": [],
   "source": [
    "import math\n",
    "import numpy as np\n",
    "import matplotlib.pyplot as plt\n",
    "%matplotlib notebook"
   ]
  },
  {
   "cell_type": "code",
   "execution_count": null,
   "id": "929cbcbe-ba4a-45e2-984d-d92f36406d9b",
   "metadata": {
    "executionInfo": {
     "elapsed": 43,
     "status": "ok",
     "timestamp": 1702066888882,
     "user": {
      "displayName": "Felix Boateng",
      "userId": "04627125591483363813"
     },
     "user_tz": 0
    },
    "id": "929cbcbe-ba4a-45e2-984d-d92f36406d9b",
    "tags": []
   },
   "outputs": [],
   "source": [
    "L = 60 # (m) Bridge span\n",
    "delT = 0.005 # (s) time-step"
   ]
  },
  {
   "cell_type": "code",
   "execution_count": null,
   "id": "e37f49a6-e44b-422f-9ace-36c4acae8b1b",
   "metadata": {
    "executionInfo": {
     "elapsed": 38,
     "status": "ok",
     "timestamp": 1702066888882,
     "user": {
      "displayName": "Felix Boateng",
      "userId": "04627125591483363813"
     },
     "user_tz": 0
    },
    "id": "e37f49a6-e44b-422f-9ace-36c4acae8b1b",
    "tags": []
   },
   "outputs": [],
   "source": [
    "M = 2000 #(kg/m) mass per unit length\n",
    "m = 0.5*M*L # (kg) modal mass of mode\n",
    "xi = 0.025 # damping ratio\n",
    "fn = 2.5 # (Hz) bridge modal frequency\n",
    "wn = 2*math.pi*2.5 # (rads/s) angular modal frequency\n",
    "wd = wn*math.sqrt(1-xi**2) # (rads/s) damped angular modal frequency"
   ]
  },
  {
   "cell_type": "code",
   "execution_count": null,
   "id": "d4f59f3f-c106-47d7-be55-9d03c7bfabbd",
   "metadata": {
    "executionInfo": {
     "elapsed": 48,
     "status": "ok",
     "timestamp": 1702066888895,
     "user": {
      "displayName": "Felix Boateng",
      "userId": "04627125591483363813"
     },
     "user_tz": 0
    },
    "id": "d4f59f3f-c106-47d7-be55-9d03c7bfabbd",
    "tags": []
   },
   "outputs": [],
   "source": [
    "# Define the Duhamel integration function\n",
    "def Duhamel(T, F):\n",
    "    # Initialize an array to store displacement values\n",
    "    U = np.zeros(len(T))\n",
    "\n",
    "    # Initialize variables for cumulative sums used to calculate A and B\n",
    "    ACum_i = 0\n",
    "    BCum_i = 0\n",
    "\n",
    "    # Loop through the time vector to compute the response at each time point\n",
    "    for i, t in enumerate(T):\n",
    "\n",
    "        if i > 0:\n",
    "            # Calculate A[i]\n",
    "            y_i = math.e**(xi * wn * T[i]) * F[i] * math.cos(wd * T[i])  # Value of integrand at current time-step\n",
    "            y_iml = math.e**(xi * wn * T[i-1]) * F[i-1] * math.cos(wd * T[i-1])  # Value of integrand at previous time-step\n",
    "            Area_i = 0.5 * delT * (y_i + y_iml)  # Area of the trapezoid\n",
    "            ACum_i += Area_i  # Cumulative areas from t=0 to the current time\n",
    "            A_i = (1 / (m * wd)) * ACum_i  # Value of A for the current time-step\n",
    "\n",
    "            # Calculate B[i]\n",
    "            y_i = math.e**(xi * wn * T[i]) * F[i] * math.sin(wd * T[i])  # Value of integrand at current time-step\n",
    "            y_iml = math.e**(xi * wn * T[i-1]) * F[i-1] * math.sin(wd * T[i-1])  # Value of integrand at previous time-step\n",
    "            Area_i = 0.5 * delT * (y_i + y_iml)  # Area of the trapezoid\n",
    "            BCum_i += Area_i  # Cumulative areas from t=0 to the current time\n",
    "            B_i = (1 / (m * wd)) * BCum_i  # Value of B for the current time-step\n",
    "\n",
    "            # Calculate the response\n",
    "            U[i] = A_i * math.e**(-xi * wn * T[i]) * math.sin(wd * T[i]) - B_i * math.e**(-xi * wn * T[i]) * math.cos(wd * T[i])\n",
    "\n",
    "    return U"
   ]
  },
  {
   "cell_type": "code",
   "execution_count": null,
   "id": "ce8459f1-c831-4f7a-9437-2f0ed2d6adf6",
   "metadata": {
    "executionInfo": {
     "elapsed": 47,
     "status": "ok",
     "timestamp": 1702066888895,
     "user": {
      "displayName": "Felix Boateng",
      "userId": "04627125591483363813"
     },
     "user_tz": 0
    },
    "id": "ce8459f1-c831-4f7a-9437-2f0ed2d6adf6",
    "tags": []
   },
   "outputs": [],
   "source": [
    "def Peaks(disp, time):\n",
    "    # initialize containers to hold peaks and their times\n",
    "    peaks = np.empty([1, 0])\n",
    "    times = np.empty([1, 0])\n",
    "\n",
    "    # calculate slopes for each data point\n",
    "    slopes = np.zeros(len(disp))\n",
    "    for i, u in enumerate(disp):\n",
    "        if (i<len(slopes)-1):\n",
    "            slopes[i] = disp[i+1] - disp[i]\n",
    "\n",
    "    #cycle through the all slopes and pick out the peaks\n",
    "    for i, u in enumerate(slopes):\n",
    "        if (i<len(slopes)-1):\n",
    "            if (slopes[i+1]<0 and slopes[i]>0):\n",
    "                peaks = np.append(peaks, disp[i])\n",
    "                times = np.append(times, time[i])\n",
    "\n",
    "    return [peaks, times]"
   ]
  },
  {
   "cell_type": "markdown",
   "id": "c382d1d2-9421-4e98-bf0e-598a9137e2f6",
   "metadata": {
    "id": "c382d1d2-9421-4e98-bf0e-598a9137e2f6"
   },
   "source": [
    "## Dynamic analysis: Bridge + N pedestrian crowd"
   ]
  },
  {
   "cell_type": "code",
   "execution_count": null,
   "id": "08f28d4b-fd06-4ebc-9322-4b847dc304e9",
   "metadata": {
    "executionInfo": {
     "elapsed": 47,
     "status": "ok",
     "timestamp": 1702066888896,
     "user": {
      "displayName": "Felix Boateng",
      "userId": "04627125591483363813"
     },
     "user_tz": 0
    },
    "id": "08f28d4b-fd06-4ebc-9322-4b847dc304e9",
    "tags": []
   },
   "outputs": [],
   "source": [
    "N = 60 # number of pedestrians that cross the bridge in the time window\n",
    "window = 5*60 # (s) simulation window\n",
    "buffer = 200 # (s) Additional seconds to allow simulation of response beyond window length(late finishers)\n",
    "mp = 80 # (kg) pedestrian mass\n",
    "G = 9.81*mp # (N) static weight of pedestrian"
   ]
  },
  {
   "cell_type": "code",
   "execution_count": null,
   "id": "9be8081f-0319-4645-b375-99699a7623bd",
   "metadata": {
    "executionInfo": {
     "elapsed": 46,
     "status": "ok",
     "timestamp": 1702066888897,
     "user": {
      "displayName": "Felix Boateng",
      "userId": "04627125591483363813"
     },
     "user_tz": 0
    },
    "id": "9be8081f-0319-4645-b375-99699a7623bd",
    "tags": []
   },
   "outputs": [],
   "source": [
    "# Random variables\n",
    "tStart = np.random.uniform(low=0.0, high=window, size=N) # uniforml distrubuted start times\n",
    "Vp = np.random.normal(loc=1.3, scale=0.125, size=N) # normally distributed walking velocities"
   ]
  },
  {
   "cell_type": "code",
   "execution_count": null,
   "id": "09998a43-69a8-4965-9b50-409fbc42c0aa",
   "metadata": {
    "executionInfo": {
     "elapsed": 1991,
     "status": "ok",
     "timestamp": 1702066890844,
     "user": {
      "displayName": "Felix Boateng",
      "userId": "04627125591483363813"
     },
     "user_tz": 0
    },
    "id": "09998a43-69a8-4965-9b50-409fbc42c0aa",
    "tags": []
   },
   "outputs": [],
   "source": [
    "# set up the simulation time vector\n",
    "tMax = window + buffer\n",
    "time = np.arange(0, tMax+delT, delT)\n",
    "\n",
    "# initialize the containers to hold the individual forces and reponses calculated for each pedestrian\n",
    "crowdForce = np.zeros([N, len(time)])\n",
    "crowdResponse = np.zeros([N, len(time)])\n",
    "\n",
    "# for each pedestrian....\n",
    "for i, n in enumerate(np.arange(N)):\n",
    "    vp = Vp[i] # (m/s) walking velocity\n",
    "    startTime = tStart[i] # (s) start time\n",
    "    tCross = L/vp # (s) crossing time\n",
    "    tEnd = startTime + tCross # (s) finish time\n",
    "\n",
    "    fv = 0.35*vp**3 - 1.59*vp**2 + 2.93*vp # (Hz) pacing frequency\n",
    "    DLF = 0.41*(fv - 0.95) # Dynamic load factor\n",
    "\n",
    "    timeVector = np.arange(0, tCross+delT, delT) # time vector for the pedestrian\n",
    "    Fv = G + abs(G * DLF * np.sin(2*math.pi*(fv/2)*timeVector)) # static + dynamic ground reaction force\n",
    "\n",
    "    xp = vp*timeVector # position as a function of time\n",
    "    phi = np.sin(math.pi*xp/L) # mode shape at pedestrian's location\n",
    "    Fn = Fv*phi # modal force experienced by SDoF system\n",
    "\n",
    "    response = Duhamel(timeVector, Fn) # response calculated using the duhamel integral function\n",
    "\n",
    "    #save the ground reaction force for this pedestrian at the correct position in the overall simulation records\n",
    "    iStart = round(startTime/delT) # index for start time\n",
    "    crowdForce[i, iStart:iStart+len(Fn)] = Fn\n",
    "    crowdResponse[i, iStart:iStart+len(Fn)] = response\n"
   ]
  },
  {
   "cell_type": "code",
   "execution_count": null,
   "id": "f2816161-50ae-481a-a949-c1baad18266c",
   "metadata": {
    "colab": {
     "base_uri": "https://localhost:8080/",
     "height": 872
    },
    "executionInfo": {
     "elapsed": 6036,
     "status": "ok",
     "timestamp": 1702066896788,
     "user": {
      "displayName": "Felix Boateng",
      "userId": "04627125591483363813"
     },
     "user_tz": 0
    },
    "id": "f2816161-50ae-481a-a949-c1baad18266c",
    "outputId": "5ce86364-bc93-4073-9c04-92d792d31142",
    "tags": []
   },
   "outputs": [],
   "source": [
    "fig, axes = plt.subplots(figsize=(14,10), nrows=2, ncols=1)\n",
    "\n",
    "for i in np.arange(len(crowdForce)):\n",
    "    axes[0].plot(time, crowdForce[i, :])\n",
    "    axes[1].plot(time, -crowdResponse[i, :])\n",
    "\n",
    "axes[0].plot([window, window],[0, np.max(crowdForce)], 'r--')\n",
    "axes[0].plot([window+buffer, window+buffer],[0, np.max(crowdForce)], 'r--')\n",
    "axes[0].set_xlabel('time (s)')\n",
    "axes[0].set_ylabel('Force (N)')\n",
    "axes[0].set_title('Individual modal forces')\n",
    "axes[0].set_xlim(0, tMax)\n",
    "axes[0].grid()\n",
    "\n",
    "axes[1].plot([window, window],[0, -np.max(crowdResponse)], 'r--')\n",
    "axes[1].plot([window+buffer, window+buffer],[0, -np.max(crowdResponse)], 'r--')\n",
    "axes[1].set_xlabel('time (s)')\n",
    "axes[1].set_ylabel('Displacement (m)')\n",
    "axes[1].set_title('Individual modal responses')\n",
    "axes[1].set_xlim(0, tMax)\n",
    "axes[1].grid()\n",
    "\n",
    "#plt.show()"
   ]
  },
  {
   "cell_type": "code",
   "execution_count": null,
   "id": "b63e0f1c-90e3-4114-92f0-5bb92d2ceb67",
   "metadata": {
    "executionInfo": {
     "elapsed": 59,
     "status": "ok",
     "timestamp": 1702066896789,
     "user": {
      "displayName": "Felix Boateng",
      "userId": "04627125591483363813"
     },
     "user_tz": 0
    },
    "id": "b63e0f1c-90e3-4114-92f0-5bb92d2ceb67",
    "tags": []
   },
   "outputs": [],
   "source": [
    "# sum across rows of crowdForce and crowdResponse\n",
    "F_crowd = sum(crowdForce)\n",
    "Res_crowd = sum(crowdResponse)"
   ]
  },
  {
   "cell_type": "code",
   "execution_count": null,
   "id": "5cc7e5ba-968e-47f9-ae1f-620c7c760634",
   "metadata": {
    "executionInfo": {
     "elapsed": 2045,
     "status": "ok",
     "timestamp": 1702066898785,
     "user": {
      "displayName": "Felix Boateng",
      "userId": "04627125591483363813"
     },
     "user_tz": 0
    },
    "id": "5cc7e5ba-968e-47f9-ae1f-620c7c760634",
    "tags": []
   },
   "outputs": [],
   "source": [
    "peaks, times = Peaks(Res_crowd, time)"
   ]
  },
  {
   "cell_type": "code",
   "execution_count": null,
   "id": "3ee46107-a4fb-4733-8aef-52187f64e728",
   "metadata": {
    "colab": {
     "base_uri": "https://localhost:8080/",
     "height": 872
    },
    "executionInfo": {
     "elapsed": 164,
     "status": "ok",
     "timestamp": 1702066898790,
     "user": {
      "displayName": "Felix Boateng",
      "userId": "04627125591483363813"
     },
     "user_tz": 0
    },
    "id": "3ee46107-a4fb-4733-8aef-52187f64e728",
    "outputId": "019dcbb4-d41d-46e6-a7fb-094ecd5acd88",
    "tags": []
   },
   "outputs": [],
   "source": [
    "fig, axes = plt.subplots(figsize=(14,10), nrows=2, ncols=1)\n",
    "\n",
    "axes[0].plot(time, F_crowd)\n",
    "axes[1].plot(time, -Res_crowd)\n",
    "axes[1].plot(times, -peaks, 'r-')\n",
    "\n",
    "axes[0].plot([window, window],[0, max(F_crowd)], 'r-')\n",
    "axes[0].plot([window+buffer, window+buffer],[0, max(F_crowd)], 'r--')\n",
    "#axes[0].set_xlabel('time (s)')\n",
    "axes[0].set_ylabel('Force (N)')\n",
    "axes[0].set_title('Modal response (varying bridge mass)')\n",
    "axes[0].set_xlim(0, tMax)\n",
    "axes[0].grid()\n",
    "\n",
    "axes[1].set_xlabel('time (s)')\n",
    "axes[1].set_ylabel('Displacement (m)')\n",
    "axes[1].set_title('Modal response (varying bridge mass)')\n",
    "axes[1].set_xlim(0, tMax)\n",
    "axes[1].grid()\n"
   ]
  },
  {
   "cell_type": "code",
   "execution_count": null,
   "id": "bf6e3076-09ed-4ada-addb-159b4c04f5bf",
   "metadata": {
    "executionInfo": {
     "elapsed": 156,
     "status": "ok",
     "timestamp": 1702066898793,
     "user": {
      "displayName": "Felix Boateng",
      "userId": "04627125591483363813"
     },
     "user_tz": 0
    },
    "id": "bf6e3076-09ed-4ada-addb-159b4c04f5bf",
    "tags": []
   },
   "outputs": [],
   "source": [
    "import matplotlib.gridspec as gridspec\n",
    "from matplotlib.animation import FuncAnimation"
   ]
  },
  {
   "cell_type": "code",
   "execution_count": null,
   "id": "f2ebaabe-827c-46a5-baf6-f73b4bcee0ce",
   "metadata": {
    "executionInfo": {
     "elapsed": 155,
     "status": "ok",
     "timestamp": 1702066898793,
     "user": {
      "displayName": "Felix Boateng",
      "userId": "04627125591483363813"
     },
     "user_tz": 0
    },
    "id": "f2ebaabe-827c-46a5-baf6-f73b4bcee0ce",
    "tags": []
   },
   "outputs": [],
   "source": [
    "# Define animation parameters\n",
    "animLength = 90  # seconds\n",
    "frameRate = 12  # frames per second\n",
    "plotInterval = 1 / frameRate  # seconds\n",
    "dataInterval = int(plotInterval / delT)  # number of data points per frame\n",
    "defScale = 500\n"
   ]
  },
  {
   "cell_type": "code",
   "execution_count": null,
   "id": "d3b6ea09-d059-4069-b367-9f3eb019f11c",
   "metadata": {
    "tags": []
   },
   "outputs": [],
   "source": [
    "# Define figure and subplots\n",
    "fig, (ax1, ax2) = plt.subplots(2, 1, figsize=(10, 5))\n",
    "\n",
    "# Remove original subplots\n",
    "plt.delaxes(ax1)\n",
    "plt.delaxes(ax2)\n",
    "\n",
    "gs = gridspec.GridSpec(2,1,height_ratios=[1,1])\n",
    "\n",
    "ax1 = plt.subplot(gs[0])\n",
    "ax2 = plt.subplot(gs[1])\n",
    "\n",
    "# Set aspect ratio for top plot\n",
    "ax1.set_aspect(\"equal\", adjustable='box')\n",
    "\n",
    "# Set axis limits\n",
    "ax1.set_xlim(0, L)\n",
    "ax1.set_ylim(-3, 3)\n",
    "yLim2 = defScale*max(Res_crowd)\n",
    "\n",
    "ax2.set_xlim(0, L)\n",
    "ax2.set_ylim(-yLim2,yLim2)\n",
    "\n",
    "\n",
    "# Set titles and axis labels\n",
    "ax1.set_title(\"Bridge plan view\")\n",
    "ax1.set_xlabel(\"(m)\")\n",
    "ax1.set_ylabel(\"(m)\")\n",
    "ax1.grid()\n",
    "\n",
    "ax2.set_title(\"Bridge oscillation\")\n",
    "ax2.set_xlabel(\"(m)\")\n",
    "ax2.set_ylabel(f\"Scaled displacement\\n x{defScale} (m)\")\n",
    "ax2.grid()\n",
    "\n",
    "plt.show()"
   ]
  },
  {
   "cell_type": "code",
   "execution_count": null,
   "id": "e07a0c33",
   "metadata": {},
   "outputs": [],
   "source": [
    "\n",
    "# define initial state of pedestrians in top plot\n",
    "\n",
    "topPedList = [] # initialize an empty list to hold markers representing pedestrians\n",
    "for i in np.arange(N):\n",
    "    yPos = np.random.uniform(low=-2.5, high=2.5, size=1)\n",
    "    pedTop, =ax1.plot(0, yPos, 'o', markeredgecolor='k', markersize=10)\n",
    "    topPedList.append(pedTop)\n",
    "    \n",
    "# define initial state of pedestrians in bottom plot\n",
    "btmPedList =[]\n",
    "for i in np.arange(N):\n",
    "    ped, = ax2.plot([0,0], [0, 0.6*yLim2])\n",
    "    btmPedList.append(ped)\n",
    "    \n",
    "# define the initial state of the beam in the bottom plot    \n",
    "xVals = np.arange(0, L+1, 1)  # an array of x-values alon the beam\n",
    "phiVals = np.sin(math.pi*xVals/L) #corresponding phi-values\n",
    "beamDisp = 0*phiVals # initial array of displacements along the beam\n",
    "\n",
    "axisLine, = ax2.plot(xVals, beamDisp, 'k') # add a horizontal beam axis to plot\n",
    "defLine, = ax2.plot(xVals, beamDisp, 'r') # add initial deflected shape to the plot\n",
    "    "
   ]
  },
  {
   "cell_type": "code",
   "execution_count": null,
   "id": "89a81e46-7752-4ceb-a5ba-6fe921b7e2cd",
   "metadata": {
    "tags": []
   },
   "outputs": [],
   "source": [
    "# function to animate plot objects\n",
    "def animate(i):\n",
    "    frm = i*dataInterval # index of data for this frame\n",
    "    simTime = time[frm]\n",
    "    \n",
    "    # update the pedestrian positions (top plot) fo the current frame\n",
    "    for i in np.arange(N):\n",
    "        if (simTime > tStart[i] and simTime < tStart[i] + L/Vp[i]):\n",
    "            Pt = topPedList[i]\n",
    "            pos = (simTime - tStart[i])*Vp[i]\n",
    "            Pt.set_xdata([pos, pos])\n",
    "            \n",
    "    # update the beam deflected shape for the current frame\n",
    "    defLine.set_data(xVals, -defScale* phiVals* Res_crowd[frm])\n",
    "    \n",
    "    # update the pedestrian positions (bottom plot) for the current frame\n",
    "    for i in np.arange(N):\n",
    "        if (simTime > tStart[i] and simTime < tStart[i] + L/Vp[i]):\n",
    "            Pb = btmPedList[i]\n",
    "            pos = (simTime - tStart[i])*Vp[i]\n",
    "            h = 0.1 + 0.1*crowdForce[i, frm]/ max(crowdForce[i,:])\n",
    "            Pb.set_data([pos, pos], [0,h])\n",
    "    return"
   ]
  },
  {
   "cell_type": "code",
   "execution_count": null,
   "id": "6b589121-ddb6-4419-958c-099ece473b68",
   "metadata": {
    "tags": []
   },
   "outputs": [],
   "source": [
    "# function to animate the animation\n",
    "myAnimation = FuncAnimation(fig,\n",
    "                            animate,\n",
    "                            frames = int(1+(animLength/plotInterval)),\n",
    "                            interval = plotInterval*1000,\n",
    "                            blit=True,\n",
    "                            repeat=True\n",
    "                           )\n",
    "#plt.show()\n"
   ]
  },
  {
   "cell_type": "code",
   "execution_count": null,
   "id": "22348ad7-8e1a-4be2-afd1-d821704beaff",
   "metadata": {
    "id": "22348ad7-8e1a-4be2-afd1-d821704beaff"
   },
   "outputs": [],
   "source": [
    "myAnimation.save('bridge_response.gif')\n"
   ]
  },
  {
   "cell_type": "markdown",
   "id": "eecea53e",
   "metadata": {},
   "source": [
    "## Limitations of the simulation\n",
    "- there is no human interaction on the bridge\n",
    "- mass of the humans are ignored since it is less compared to the mass of the bridge"
   ]
  },
  {
   "cell_type": "code",
   "execution_count": null,
   "id": "702cccc5",
   "metadata": {},
   "outputs": [],
   "source": []
  }
 ],
 "metadata": {
  "colab": {
   "provenance": []
  },
  "kernelspec": {
   "display_name": "Python 3 (ipykernel)",
   "language": "python",
   "name": "python3"
  },
  "language_info": {
   "codemirror_mode": {
    "name": "ipython",
    "version": 3
   },
   "file_extension": ".py",
   "mimetype": "text/x-python",
   "name": "python",
   "nbconvert_exporter": "python",
   "pygments_lexer": "ipython3",
   "version": "3.11.5"
  },
  "varInspector": {
   "cols": {
    "lenName": 16,
    "lenType": 16,
    "lenVar": 40
   },
   "kernels_config": {
    "python": {
     "delete_cmd_postfix": "",
     "delete_cmd_prefix": "del ",
     "library": "var_list.py",
     "varRefreshCmd": "print(var_dic_list())"
    },
    "r": {
     "delete_cmd_postfix": ") ",
     "delete_cmd_prefix": "rm(",
     "library": "var_list.r",
     "varRefreshCmd": "cat(var_dic_list()) "
    }
   },
   "types_to_exclude": [
    "module",
    "function",
    "builtin_function_or_method",
    "instance",
    "_Feature"
   ],
   "window_display": false
  }
 },
 "nbformat": 4,
 "nbformat_minor": 5
}
